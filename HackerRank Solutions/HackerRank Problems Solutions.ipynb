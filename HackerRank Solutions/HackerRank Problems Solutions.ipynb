{
 "cells": [
  {
   "cell_type": "code",
   "execution_count": null,
   "id": "fb665013",
   "metadata": {},
   "outputs": [
    {
     "name": "stdout",
     "output_type": "stream",
     "text": [
      "True\n"
     ]
    }
   ],
   "source": [
    "# Write a function\n",
    "def is_leap(year):\n",
    "    leap = False\n",
    "    \n",
    "    if year % 4 == 0 and (year % 100 == 0 and year % 400 == 0) or year % 4 == 0 and year % 100 != 0:\n",
    "        leap = True\n",
    "    \n",
    "    return leap\n",
    "\n",
    "year = int(input())\n",
    "print(is_leap(year))"
   ]
  },
  {
   "cell_type": "code",
   "execution_count": null,
   "id": "99191ee2",
   "metadata": {},
   "outputs": [
    {
     "name": "stdout",
     "output_type": "stream",
     "text": [
      "123456789101112131415161718192021222324252627282930313233343536373839404142434445464748495051525354555657585960616263646566676869707172737475767778798081828384858687888990919293949596979899100101102\n"
     ]
    }
   ],
   "source": [
    "# Print Function\n",
    "if __name__ == '__main__':\n",
    "    n = int(input())\n",
    "    numbersChain = 0\n",
    "\n",
    "    for number in range(1, n+1):\n",
    "        digits = 1\n",
    "        numberCheck = number\n",
    "\n",
    "        while numberCheck >= 10:\n",
    "            numberCheck //= 10\n",
    "            digits += 1\n",
    "\n",
    "        numbersChain = numbersChain * (10 ** digits) + number\n",
    "\n",
    "    print(numbersChain)"
   ]
  },
  {
   "cell_type": "code",
   "execution_count": 1,
   "id": "7dc5bcd0",
   "metadata": {},
   "outputs": [
    {
     "name": "stdout",
     "output_type": "stream",
     "text": [
      "14\n",
      "-4\n",
      "45\n"
     ]
    }
   ],
   "source": [
    "# Arithmetic Operators\n",
    "if __name__ == '__main__':\n",
    "    a = int(input())\n",
    "    b = int(input())\n",
    "    \n",
    "    print(a+b)\n",
    "    print(a-b)\n",
    "    print(a*b)"
   ]
  },
  {
   "cell_type": "code",
   "execution_count": null,
   "id": "074737e4",
   "metadata": {},
   "outputs": [
    {
     "data": {
      "text/plain": [
       "28"
      ]
     },
     "execution_count": 26,
     "metadata": {},
     "output_type": "execute_result"
    }
   ],
   "source": [
    "# 2D Array - DS\n",
    "#!/bin/python3\n",
    "\n",
    "import math\n",
    "import os\n",
    "import random\n",
    "import re\n",
    "import sys\n",
    "import time\n",
    "\n",
    "#\n",
    "# Complete the 'hourglassSum' function below.\n",
    "#\n",
    "# The function is expected to return an INTEGER.\n",
    "# The function accepts 2D_INTEGER_ARRAY arr as parameter.\n",
    "#\n",
    "\n",
    "def hourglassSum(arr):\n",
    "    numHourglassesPerLevel = 4\n",
    "    hourglassTopBottomMask = [0,1,2]\n",
    "    hourglassMiddleMask = 1\n",
    "    \n",
    "    currentTop = 0\n",
    "    currentMiddle = 1\n",
    "    currentBot = 2\n",
    "\n",
    "    addition = 0\n",
    "    results = []\n",
    "\n",
    "    while len(results) < 16:\n",
    "        for hourglass in range(numHourglassesPerLevel):\n",
    "            for currentValue in hourglassTopBottomMask:\n",
    "                addition += arr[currentTop][currentValue]\n",
    "\n",
    "            addition += arr[currentMiddle][hourglassMiddleMask]\n",
    "\n",
    "            for currentValue in hourglassTopBottomMask:\n",
    "                addition += arr[currentBot][currentValue]\n",
    "\n",
    "            hourglassTopBottomMask = [number + 1 for number in hourglassTopBottomMask]\n",
    "            hourglassMiddleMask += 1\n",
    "\n",
    "            results.append(addition)\n",
    "            addition = 0\n",
    "\n",
    "        hourglassTopBottomMask = [0,1,2]\n",
    "        hourglassMiddleMask = 1\n",
    "\n",
    "        currentTop += 1\n",
    "        currentMiddle += 1\n",
    "        currentBot += 1\n",
    "\n",
    "    return max(results)\n",
    "\n",
    "arr = [\n",
    "    [-9, -9, -9,  1, 1, 1],\n",
    "    [ 0, -9,  0,  4, 3, 2],\n",
    "    [-9, -9, -9,  1, 2, 3],\n",
    "    [ 0,  0,  8,  6, 6, 0],\n",
    "    [ 0,  0,  0, -2, 0, 0],\n",
    "    [ 0,  0,  1,  2, 4, 0]\n",
    "]\n",
    "\n",
    "hourglassSum(arr)"
   ]
  },
  {
   "cell_type": "code",
   "execution_count": 29,
   "id": "3357d0d3",
   "metadata": {},
   "outputs": [
    {
     "name": "stdout",
     "output_type": "stream",
     "text": [
      "wWW.hACKERrANK.COM\n"
     ]
    }
   ],
   "source": [
    "def swap_case(s):\n",
    "    swappedString = ''\n",
    "\n",
    "    for letter in s:\n",
    "        if letter.isalpha():\n",
    "            if letter.isupper():\n",
    "                swappedString += letter.lower()\n",
    "            else:\n",
    "                swappedString += letter.upper()\n",
    "        else:\n",
    "            swappedString += letter\n",
    "\n",
    "    return swappedString\n",
    "\n",
    "# Input: Www.HackerRank.com\n",
    "# Pythonist 2\n",
    "\n",
    "if __name__ == '__main__':\n",
    "    s = input()\n",
    "    result = swap_case(s)\n",
    "    print(result)"
   ]
  },
  {
   "cell_type": "code",
   "execution_count": null,
   "id": "6844dd0f",
   "metadata": {},
   "outputs": [],
   "source": [
    "# The Minion Game\n",
    "def minion_game(string):\n",
    "    stuartScore = kevinScore = 0\n",
    "    wordLen = len(string)\n",
    "    \n",
    "    for i, letter in enumerate(string):\n",
    "        if letter in 'AEIOU':\n",
    "            kevinScore += wordLen - i\n",
    "        else:\n",
    "            stuartScore += wordLen - i\n",
    "            \n",
    "    if stuartScore == kevinScore:\n",
    "        print('Draw')\n",
    "    elif stuartScore > kevinScore:\n",
    "        print('Stuart', stuartScore)\n",
    "    else:\n",
    "        print('Kevin', kevinScore)\n",
    "\n",
    "if __name__ == '__main__':\n",
    "    s = input()\n",
    "    minion_game(s)"
   ]
  },
  {
   "cell_type": "code",
   "execution_count": 60,
   "id": "4dba4050",
   "metadata": {},
   "outputs": [
    {
     "data": {
      "text/plain": [
       "'Hello   World  Lol'"
      ]
     },
     "execution_count": 60,
     "metadata": {},
     "output_type": "execute_result"
    }
   ],
   "source": [
    "# Capitalize!\n",
    "#!/bin/python3\n",
    "\n",
    "import math\n",
    "import os\n",
    "import random\n",
    "import re\n",
    "import sys\n",
    "\n",
    "# Complete the solve function below.\n",
    "def solve(s):\n",
    "    separatedWords = s.split(' ')\n",
    "    capitalizedName = ''\n",
    "    \n",
    "    if(len(s) == 0):\n",
    "        return ''\n",
    "    \n",
    "    for i, word in enumerate(separatedWords):\n",
    "        if word.isalnum():\n",
    "            capitalizedWord = word[0].upper() + word[1:]\n",
    "            capitalizedName += capitalizedWord if i == 0 else ' ' + capitalizedWord\n",
    "        else:\n",
    "            capitalizedName += ' '\n",
    "\n",
    "    return capitalizedName\n",
    "\n",
    "name = 'hello   world  lol'\n",
    "\n",
    "solve(name)"
   ]
  },
  {
   "cell_type": "code",
   "execution_count": null,
   "id": "6540ec6c",
   "metadata": {},
   "outputs": [
    {
     "name": "stdout",
     "output_type": "stream",
     "text": [
      "\n"
     ]
    },
    {
     "data": {
      "text/plain": [
       "[7, 3]"
      ]
     },
     "execution_count": 118,
     "metadata": {},
     "output_type": "execute_result"
    }
   ],
   "source": [
    "# Dynamic Array\n",
    "#!/bin/python3\n",
    "\n",
    "import math\n",
    "import os\n",
    "import random\n",
    "import re\n",
    "import sys\n",
    "\n",
    "#\n",
    "# Complete the 'dynamicArray' function below.\n",
    "#\n",
    "# The function is expected to return an INTEGER_ARRAY.\n",
    "# The function accepts following parameters:\n",
    "#  1. INTEGER n\n",
    "#  2. 2D_INTEGER_ARRAY queries\n",
    "#\n",
    "\n",
    "def dynamicArray(n, queries):\n",
    "    arr = [[] for n in range(n)]\n",
    "    print()\n",
    "    lastAnswer = 0\n",
    "    answerArray = []\n",
    "\n",
    "    for query in queries:\n",
    "        if query[0] == 1:\n",
    "            index = (query[1] ^ lastAnswer) % n\n",
    "            arr[index].append(query[2])\n",
    "        else:\n",
    "            index = (query[1] ^ lastAnswer) % n\n",
    "            lastAnswer = arr[index][query[2]%len(arr[index])]\n",
    "            answerArray.append(lastAnswer)\n",
    "\n",
    "    return answerArray\n",
    "\n",
    "n = 2\n",
    "queries = [[1, 0, 5], [1, 1, 7], [1, 0, 3], [2, 1, 0], [2, 1, 1]]\n",
    "\n",
    "dynamicArray(n, queries)"
   ]
  }
 ],
 "metadata": {
  "kernelspec": {
   "display_name": "Python 3",
   "language": "python",
   "name": "python3"
  },
  "language_info": {
   "codemirror_mode": {
    "name": "ipython",
    "version": 3
   },
   "file_extension": ".py",
   "mimetype": "text/x-python",
   "name": "python",
   "nbconvert_exporter": "python",
   "pygments_lexer": "ipython3",
   "version": "3.13.3"
  }
 },
 "nbformat": 4,
 "nbformat_minor": 5
}

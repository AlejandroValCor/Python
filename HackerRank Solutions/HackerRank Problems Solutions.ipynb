{
 "cells": [
  {
   "cell_type": "code",
   "execution_count": null,
   "id": "fb665013",
   "metadata": {},
   "outputs": [
    {
     "name": "stdout",
     "output_type": "stream",
     "text": [
      "True\n"
     ]
    }
   ],
   "source": [
    "# Write a function\n",
    "def is_leap(year):\n",
    "    leap = False\n",
    "    \n",
    "    if year % 4 == 0 and (year % 100 == 0 and year % 400 == 0) or year % 4 == 0 and year % 100 != 0:\n",
    "        leap = True\n",
    "    \n",
    "    return leap\n",
    "\n",
    "year = int(input())\n",
    "print(is_leap(year))"
   ]
  },
  {
   "cell_type": "code",
   "execution_count": null,
   "id": "99191ee2",
   "metadata": {},
   "outputs": [
    {
     "name": "stdout",
     "output_type": "stream",
     "text": [
      "123456789101112131415161718192021222324252627282930313233343536373839404142434445464748495051525354555657585960616263646566676869707172737475767778798081828384858687888990919293949596979899100101102\n"
     ]
    }
   ],
   "source": [
    "# Print Function\n",
    "if __name__ == '__main__':\n",
    "    n = int(input())\n",
    "    numbersChain = 0\n",
    "\n",
    "    for number in range(1, n+1):\n",
    "        digits = 1\n",
    "        numberCheck = number\n",
    "\n",
    "        while numberCheck >= 10:\n",
    "            numberCheck //= 10\n",
    "            digits += 1\n",
    "\n",
    "        numbersChain = numbersChain * (10 ** digits) + number\n",
    "\n",
    "    print(numbersChain)"
   ]
  },
  {
   "cell_type": "code",
   "execution_count": 1,
   "id": "7dc5bcd0",
   "metadata": {},
   "outputs": [
    {
     "name": "stdout",
     "output_type": "stream",
     "text": [
      "14\n",
      "-4\n",
      "45\n"
     ]
    }
   ],
   "source": [
    "# Arithmetic Operators\n",
    "if __name__ == '__main__':\n",
    "    a = int(input())\n",
    "    b = int(input())\n",
    "    \n",
    "    print(a+b)\n",
    "    print(a-b)\n",
    "    print(a*b)"
   ]
  },
  {
   "cell_type": "code",
   "execution_count": null,
   "id": "074737e4",
   "metadata": {},
   "outputs": [],
   "source": []
  }
 ],
 "metadata": {
  "kernelspec": {
   "display_name": "Python 3",
   "language": "python",
   "name": "python3"
  },
  "language_info": {
   "codemirror_mode": {
    "name": "ipython",
    "version": 3
   },
   "file_extension": ".py",
   "mimetype": "text/x-python",
   "name": "python",
   "nbconvert_exporter": "python",
   "pygments_lexer": "ipython3",
   "version": "3.8.5"
  }
 },
 "nbformat": 4,
 "nbformat_minor": 5
}

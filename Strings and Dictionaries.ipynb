{
 "cells": [
  {
   "cell_type": "code",
   "execution_count": 1,
   "id": "d3fd4d54",
   "metadata": {},
   "outputs": [
    {
     "name": "stdout",
     "output_type": "stream",
     "text": [
      "False\n",
      "True\n",
      "False\n",
      "False\n"
     ]
    }
   ],
   "source": [
    "def is_valid_zip(zip_code):\n",
    "    \"\"\"Returns whether the input string is a valid (5 digit) zip code\n",
    "    \"\"\"\n",
    "    return len(zip_code) == 5 and zip_code.isdigit()\n",
    "\n",
    "print(is_valid_zip(\"83a95\"))\n",
    "print(is_valid_zip(\"71594\"))\n",
    "print(is_valid_zip(\"5735904\"))\n",
    "print(is_valid_zip(\"487.5\"))"
   ]
  },
  {
   "cell_type": "code",
   "execution_count": 2,
   "id": "58bf9b52",
   "metadata": {},
   "outputs": [
    {
     "data": {
      "text/plain": [
       "[0, 3, 4]"
      ]
     },
     "execution_count": 2,
     "metadata": {},
     "output_type": "execute_result"
    }
   ],
   "source": [
    "def word_search(doc_list, keyword):\n",
    "    validArticles = []\n",
    "\n",
    "    for i, doc in enumerate(doc_list):\n",
    "        doc = doc.replace(',', ' ').replace('.', ' ').lower()\n",
    "        words = doc.split()\n",
    "\n",
    "        if keyword.lower() in words:\n",
    "            validArticles.append(i)\n",
    "\n",
    "    return validArticles\n",
    "\n",
    "doc_list = [\"The Learn Python Challenge Casino\", \"They bought a car\", \"Casinoville\", \"I like,casino a lot.\", \"The ,casino. Is great.\"]\n",
    "keyword = 'casino'\n",
    "word_search(doc_list, keyword)"
   ]
  },
  {
   "cell_type": "code",
   "execution_count": 3,
   "id": "d41c29d9",
   "metadata": {},
   "outputs": [
    {
     "name": "stdout",
     "output_type": "stream",
     "text": [
      "{'casino': [0, 1], 'they': [1]}\n",
      "{'casino': [0], 'ear': []}\n"
     ]
    }
   ],
   "source": [
    "def multi_word_search(doc_list, keywords):\n",
    "    validArticles = {}\n",
    "\n",
    "    validArticles = {keyword: word_search(doc_list, keyword) for keyword in keywords}\n",
    "\n",
    "    return validArticles\n",
    "\n",
    "doc_list = [\"The Learn Python Challenge Casino.\", \"They bought a car and a casino\", \"Casinoville\"]\n",
    "keywords = ['casino', 'they']\n",
    "print(multi_word_search(doc_list, keywords))\n",
    "\n",
    "doc_list = ['The Learn Python Challenge Casino', 'They bought a car', 'Casinoville?']\n",
    "keywords = ['casino', 'ear']\n",
    "print(multi_word_search(doc_list, keywords))"
   ]
  },
  {
   "cell_type": "code",
   "execution_count": 5,
   "id": "30d8f9fc",
   "metadata": {},
   "outputs": [
    {
     "name": "stdout",
     "output_type": "stream",
     "text": [
      "{'casino': [0, 1], 'they': [1]}\n",
      "{'casino': [0], 'ear': []}\n"
     ]
    }
   ],
   "source": [
    "def multi_word_search(doc_list, keywords):\n",
    "    validArticles = {keyword: [] for keyword in keywords}\n",
    "\n",
    "    for i, doc in enumerate(doc_list):\n",
    "        doc = doc.replace(',', ' ').replace('.', ' ').lower()\n",
    "        words = doc.split()\n",
    "\n",
    "        for keyword in keywords:\n",
    "            if keyword.lower() in words:\n",
    "                validArticles[keyword].append(i)\n",
    "                #validArticles.setdefault(keyword, []).append(i)\n",
    "        \n",
    "    return validArticles\n",
    "\n",
    "doc_list = [\"The Learn Python Challenge Casino.\", \"They bought a car and a casino\", \"Casinoville\"]\n",
    "keywords = ['casino', 'they']\n",
    "print(multi_word_search(doc_list, keywords))\n",
    "\n",
    "doc_list = ['The Learn Python Challenge Casino', 'They bought a car', 'Casinoville?']\n",
    "keywords = ['casino', 'ear']\n",
    "print(multi_word_search(doc_list, keywords))"
   ]
  },
  {
   "cell_type": "code",
   "execution_count": 3,
   "id": "7c2f10c0",
   "metadata": {},
   "outputs": [
    {
     "name": "stdout",
     "output_type": "stream",
     "text": [
      "Index 0: Geeks\n",
      "Index 1: for\n",
      "Index 2: Geeks\n",
      "[(0, 'Geeks'), (1, 'for'), (2, 'Geeks')]\n"
     ]
    }
   ],
   "source": [
    "a = [\"Geeks\", \"for\", \"Geeks\"]\n",
    "\n",
    "# Iterating list using enumerate to get both index and element\n",
    "for i, name in enumerate(a):\n",
    "    print(f\"Index {i}: {name}\")\n",
    "\n",
    "# Converting to a list of tuples\n",
    "print(list(enumerate(a)))"
   ]
  },
  {
   "cell_type": "code",
   "execution_count": null,
   "id": "4eb2e107",
   "metadata": {},
   "outputs": [],
   "source": [
    "\"\"\"\"\n",
    "Alternate Solution\n",
    "keyword_to_indices = {}\n",
    "    for keyword in keywords:\n",
    "        keyword_to_indices[keyword] = word_search(documents, keyword)\n",
    "    return keyword_to_indices\n",
    "\"\"\""
   ]
  }
 ],
 "metadata": {
  "kernelspec": {
   "display_name": "Python 3",
   "language": "python",
   "name": "python3"
  },
  "language_info": {
   "codemirror_mode": {
    "name": "ipython",
    "version": 3
   },
   "file_extension": ".py",
   "mimetype": "text/x-python",
   "name": "python",
   "nbconvert_exporter": "python",
   "pygments_lexer": "ipython3",
   "version": "3.8.5"
  }
 },
 "nbformat": 4,
 "nbformat_minor": 5
}

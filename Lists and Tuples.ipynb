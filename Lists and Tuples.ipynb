{
 "cells": [
  {
   "cell_type": "code",
   "execution_count": 1,
   "id": "9d951068",
   "metadata": {},
   "outputs": [
    {
     "name": "stdout",
     "output_type": "stream",
     "text": [
      "0\n",
      "3.0\n"
     ]
    }
   ],
   "source": [
    "x = 12\n",
    "# x is a real number, so its imaginary part is 0.\n",
    "print(x.imag)\n",
    "# Here's how to make a complex number, in case you've ever been curious:\n",
    "c = 12 + 3j\n",
    "print(c.imag)"
   ]
  },
  {
   "cell_type": "code",
   "execution_count": 2,
   "id": "826aaaae",
   "metadata": {},
   "outputs": [
    {
     "name": "stdout",
     "output_type": "stream",
     "text": [
      "0 1\n"
     ]
    }
   ],
   "source": [
    "a = 1\n",
    "b = 0\n",
    "a, b = b, a\n",
    "print(a, b)"
   ]
  },
  {
   "cell_type": "code",
   "execution_count": 6,
   "id": "e9749234",
   "metadata": {},
   "outputs": [
    {
     "name": "stdout",
     "output_type": "stream",
     "text": [
      "2\n",
      "46\n",
      "None\n"
     ]
    }
   ],
   "source": [
    "def select_second(L):\n",
    "    \"\"\"Return the second element of the given list. If the list has no second\n",
    "    element, return None.\n",
    "    \"\"\"\n",
    "    if len(L) < 2:\n",
    "        return None\n",
    "    else:\n",
    "        return L[1]\n",
    "    \n",
    "print(select_second([1,2,3,4,5]))\n",
    "print(select_second([11,46]))\n",
    "print(select_second([945]))"
   ]
  },
  {
   "cell_type": "code",
   "execution_count": 7,
   "id": "6ae7e96f",
   "metadata": {},
   "outputs": [
    {
     "data": {
      "text/plain": [
       "'Dante'"
      ]
     },
     "execution_count": 7,
     "metadata": {},
     "output_type": "execute_result"
    }
   ],
   "source": [
    "# You are analyzing sports teams. Members of each team are stored in a list. The Coach is the first name in the list,\n",
    "# the captain is the second name in the list, and other players are listed after that. These lists are stored in\n",
    "# another list, which starts with the best team and proceeds through the list to the worst team last. Complete the\n",
    "# function below to select the captain of the worst team.\n",
    "\n",
    "def losing_team_captain(teams):\n",
    "    \"\"\"Given a list of teams, where each team is a list of names, return the 2nd player (captain)\n",
    "    from the last listed team\n",
    "    \"\"\"\n",
    "    return teams[-1][1]\n",
    "\n",
    "teams = [\n",
    "    [\"Bob\", \"John\", \"Marth\"],\n",
    "    [\"Natalia\", \"Bob\", \"Ryan\"],\n",
    "    [\"Robert\", \"Dante\", \"Smith\"],]\n",
    "\n",
    "losing_team_captain(teams)"
   ]
  },
  {
   "cell_type": "code",
   "execution_count": 9,
   "id": "84e7192e",
   "metadata": {},
   "outputs": [
    {
     "name": "stdout",
     "output_type": "stream",
     "text": [
      "['Mario', 'Luigi', 'Peach', 'Bowser']\n",
      "['Bowser', 'Luigi', 'Peach', 'Mario']\n",
      "['Yoshi', 'Toad', 'Daisy', 'Baby Mario']\n",
      "['Baby Mario', 'Toad', 'Daisy', 'Yoshi']\n"
     ]
    }
   ],
   "source": [
    "def purple_shell(racers):\n",
    "    \"\"\"Given a list of racers, set the first place racer (at the front of the list) to last\n",
    "    place and vice versa.\n",
    "    \n",
    "    >>> r = [\"Mario\", \"Bowser\", \"Luigi\"]\n",
    "    >>> purple_shell(r)\n",
    "    >>> r\n",
    "    [\"Luigi\", \"Bowser\", \"Mario\"]\n",
    "    \"\"\"\n",
    "    print(racers)\n",
    "    racers[0], racers[-1] = racers[-1], racers[0]\n",
    "    print(racers)\n",
    "\n",
    "firstRace = ['Mario', 'Luigi', 'Peach', 'Bowser']\n",
    "secondRace = ['Yoshi', 'Toad', 'Daisy', 'Baby Mario']\n",
    "\n",
    "purple_shell(firstRace)\n",
    "purple_shell(secondRace)"
   ]
  },
  {
   "cell_type": "code",
   "execution_count": 16,
   "id": "f806a58a",
   "metadata": {},
   "outputs": [
    {
     "name": "stdout",
     "output_type": "stream",
     "text": [
      "[1, 2, 3]\n",
      "[1, [2, 3]]\n",
      "[]\n",
      "[2, 3]\n"
     ]
    }
   ],
   "source": [
    "a = [1, 2, 3]\n",
    "b = [1, [2, 3]]\n",
    "c = []\n",
    "d = [1, 2, 3][1:]\n",
    "\n",
    "# Put your predictions in the list below. Lengths should contain 4 numbers, the\n",
    "# first being the length of a, the second being the length of b and so on.\n",
    "lengths = [3, 2, 0, 2]\n",
    "\n",
    "print(a)\n",
    "print(b)\n",
    "print(c)\n",
    "print(d)\n"
   ]
  },
  {
   "cell_type": "code",
   "execution_count": 18,
   "id": "0721c507",
   "metadata": {},
   "outputs": [
    {
     "data": {
      "text/plain": [
       "4"
      ]
     },
     "execution_count": 18,
     "metadata": {},
     "output_type": "execute_result"
    }
   ],
   "source": [
    "round(4)"
   ]
  },
  {
   "cell_type": "code",
   "execution_count": 19,
   "id": "4b400962",
   "metadata": {},
   "outputs": [
    {
     "data": {
      "text/plain": [
       "3"
      ]
     },
     "execution_count": 19,
     "metadata": {},
     "output_type": "execute_result"
    }
   ],
   "source": [
    "int(3.5)"
   ]
  },
  {
   "cell_type": "code",
   "execution_count": 20,
   "id": "95a96cf0",
   "metadata": {},
   "outputs": [
    {
     "name": "stdout",
     "output_type": "stream",
     "text": [
      "False\n",
      "False\n",
      "False\n",
      "True\n",
      "False\n",
      "False\n"
     ]
    }
   ],
   "source": [
    "def fashionably_late(arrivals, name):\n",
    "    \"\"\"Given an ordered list of arrivals to the party and a name, return whether the guest with that\n",
    "    name was fashionably late.\n",
    "    \"\"\"\n",
    "    arrivalesLength = len(arrivals)\n",
    "\n",
    "    fashionablyLateLimit = int(arrivalesLength/2) - 1 if arrivalesLength % 2 == 0 else int(arrivalesLength/2)\n",
    "\n",
    "    nameIndex = arrivals.index(name)\n",
    "\n",
    "    # True if nameIndex >= fashionablyLateLimit and nameIndex < arrivalesLength -1 else return False\n",
    "    if nameIndex > fashionablyLateLimit and nameIndex < arrivalesLength -1:\n",
    "        return True\n",
    "    else:\n",
    "        return False\n",
    "\n",
    "print(fashionably_late(['Adela', 'Fleda', 'Owen', 'May', 'Mona', 'Gilbert', 'Ford'], 'Adela'))\n",
    "print(fashionably_late(['Adela', 'Fleda', 'Owen', 'May', 'Mona', 'Gilbert', 'Ford'], 'Owen'))\n",
    "print(fashionably_late(['Paul', 'John', 'Ringo', 'George'], 'John'))\n",
    "print(fashionably_late(['Paul', 'John', 'Ringo', 'George'], 'Ringo'))\n",
    "print(fashionably_late(['Lebron', 'Kevin'], 'Lebron'))\n",
    "print(fashionably_late(['Lebron', 'Kevin'], 'Kevin'))"
   ]
  }
 ],
 "metadata": {
  "kernelspec": {
   "display_name": "Python 3",
   "language": "python",
   "name": "python3"
  },
  "language_info": {
   "codemirror_mode": {
    "name": "ipython",
    "version": 3
   },
   "file_extension": ".py",
   "mimetype": "text/x-python",
   "name": "python",
   "nbconvert_exporter": "python",
   "pygments_lexer": "ipython3",
   "version": "3.8.5"
  }
 },
 "nbformat": 4,
 "nbformat_minor": 5
}

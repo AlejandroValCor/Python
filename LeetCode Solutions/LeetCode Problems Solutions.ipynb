{
 "cells": [
  {
   "cell_type": "code",
   "execution_count": 63,
   "id": "d7ba5644",
   "metadata": {},
   "outputs": [
    {
     "data": {
      "text/plain": [
       "[2, 4]"
      ]
     },
     "execution_count": 63,
     "metadata": {},
     "output_type": "execute_result"
    }
   ],
   "source": [
    "# 1. Two Sum\n",
    "class Solution(object):\n",
    "    def twoSum(self, nums, target):\n",
    "        \"\"\"\n",
    "        :type nums: List[int]\n",
    "        :type target: int\n",
    "        :rtype: List[int]\n",
    "        \"\"\"\n",
    "        complementNumbers = {}\n",
    "        \n",
    "        for index, number in enumerate(nums):\n",
    "            complement = target - number\n",
    "            if complement in complementNumbers:\n",
    "                return [complementNumbers[complement], index]\n",
    "            complementNumbers[number] = index\n",
    "\n",
    "solution = Solution()\n",
    "solution.twoSum([1,6,8,3,5], 13)"
   ]
  },
  {
   "cell_type": "code",
   "execution_count": 65,
   "id": "2a922d32",
   "metadata": {},
   "outputs": [],
   "source": [
    "# 2. Add Two Numbers\n",
    "# Definition for singly-linked list.\n",
    "# class ListNode(object):\n",
    "#     def __init__(self, val=0, next=None):\n",
    "#         self.val = val\n",
    "#         self.next = next\n",
    "class Solution(object):\n",
    "    def addTwoNumbers(self, l1, l2):\n",
    "        \"\"\"\n",
    "        :type l1: Optional[ListNode]\n",
    "        :type l2: Optional[ListNode]\n",
    "        :rtype: Optional[ListNode]\n",
    "        \"\"\"\n",
    "        l1Number = ''\n",
    "        l2Number = ''\n",
    "        sumNumber = 0\n",
    "\n",
    "        while True:\n",
    "            l1Number = str(l1.val) + l1Number[0:]\n",
    "            if l1.next == None:\n",
    "                break\n",
    "            l1=l1.next\n",
    "\n",
    "        while True:\n",
    "            l2Number = str(l2.val) + l2Number[0:]\n",
    "            if l2.next == None:\n",
    "                break\n",
    "            l2=l2.next\n",
    "\n",
    "        sumNumber = int(l1Number) + int(l2Number)\n",
    "        responseNode = ListNode()\n",
    "        firstRun = 0\n",
    "\n",
    "        while sumNumber > 0:\n",
    "            digit = sumNumber % 10\n",
    "            sumNumber //= 10\n",
    "\n",
    "            if firstRun == 0:\n",
    "                print(digit)\n",
    "                responseNode.val = digit\n",
    "                current = responseNode\n",
    "                firstRun += 1\n",
    "            else:\n",
    "                current.next = ListNode(val = digit, next = None)\n",
    "                current = current.next\n",
    "\n",
    "        return(responseNode)"
   ]
  },
  {
   "cell_type": "code",
   "execution_count": 79,
   "id": "67033c0d",
   "metadata": {},
   "outputs": [
    {
     "data": {
      "text/plain": [
       "'789195'"
      ]
     },
     "execution_count": 79,
     "metadata": {},
     "output_type": "execute_result"
    }
   ],
   "source": [
    "# 43. Multiply Strings\n",
    "class Solution(object):\n",
    "    def multiply(self, num1, num2):\n",
    "        \"\"\"\n",
    "        :type num1: str\n",
    "        :type num2: str\n",
    "        :rtype: str\n",
    "        \"\"\"\n",
    "        return str(self.atoi(num1) * self.atoi(num2))\n",
    "    \n",
    "    def atoi(self, stringNumber):\n",
    "        # ASCII values for 0-9: 48-57\n",
    "        number = 0\n",
    "\n",
    "        for digit in stringNumber:\n",
    "            number = number * 10 + ord(digit)- ord('0')\n",
    "\n",
    "        return number\n",
    "    \n",
    "solution = Solution()\n",
    "solution.multiply('4783','165')"
   ]
  },
  {
   "cell_type": "code",
   "execution_count": null,
   "id": "98fb3830",
   "metadata": {},
   "outputs": [
    {
     "data": {
      "text/plain": [
       "True"
      ]
     },
     "execution_count": 148,
     "metadata": {},
     "output_type": "execute_result"
    }
   ],
   "source": [
    "# 9. Palindrome Number\n",
    "class Solution(object):\n",
    "    def isPalindrome(self, x):\n",
    "        \"\"\"\n",
    "        :type x: int\n",
    "        :rtype: bool\n",
    "        \"\"\"\n",
    "        x = str(x)\n",
    "\n",
    "        for i in range(0, len(x)//2):\n",
    "            if (x[i] != x[-(i+1)]):\n",
    "                return False\n",
    "\n",
    "        return True\n",
    "    \n",
    "solution = Solution()\n",
    "solution.isPalindrome(185581)"
   ]
  },
  {
   "cell_type": "code",
   "execution_count": null,
   "id": "1ffc7399",
   "metadata": {},
   "outputs": [],
   "source": [
    "class Solution(object):\n",
    "    def romanToInt(self, s):\n",
    "        \"\"\"\n",
    "        :type s: str\n",
    "        :rtype: int\n",
    "        \"\"\"\n",
    "        romanNumbers = {\n",
    "            'I': 1,\n",
    "            'V': 5,\n",
    "            'X': 10,\n",
    "            'L': 50,\n",
    "            'C': 100,\n",
    "            'D': 500,\n",
    "            'M': 1000\n",
    "        }\n",
    "        "
   ]
  }
 ],
 "metadata": {
  "kernelspec": {
   "display_name": "Python 3",
   "language": "python",
   "name": "python3"
  },
  "language_info": {
   "codemirror_mode": {
    "name": "ipython",
    "version": 3
   },
   "file_extension": ".py",
   "mimetype": "text/x-python",
   "name": "python",
   "nbconvert_exporter": "python",
   "pygments_lexer": "ipython3",
   "version": "3.8.5"
  }
 },
 "nbformat": 4,
 "nbformat_minor": 5
}

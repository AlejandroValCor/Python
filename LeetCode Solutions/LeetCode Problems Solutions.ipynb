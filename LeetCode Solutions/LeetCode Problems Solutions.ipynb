{
 "cells": [
  {
   "cell_type": "code",
   "execution_count": 41,
   "id": "d7ba5644",
   "metadata": {},
   "outputs": [
    {
     "name": "stdout",
     "output_type": "stream",
     "text": [
      "[0, 7]\n"
     ]
    }
   ],
   "source": [
    "# 1. Two Sum\n",
    "class Solution(object):\n",
    "    def twoSum(self, nums, target):\n",
    "        \"\"\"\n",
    "        :type nums: List[int]\n",
    "        :type target: int\n",
    "        :rtype: List[int]\n",
    "        \"\"\"\n",
    "        complements = {}\n",
    "        currentComplement = 0\n",
    "\n",
    "        for i, number in enumerate(nums):\n",
    "            currentComplement = target - number\n",
    "            if currentComplement in complements:\n",
    "                return [complements[currentComplement], i]\n",
    "            \n",
    "            complements[number] = i\n",
    "\n",
    "nums = [2,11,16,8,9,3,5,7,9,0,1]\n",
    "target = 9\n",
    "\n",
    "solution = Solution()\n",
    "print(solution.twoSum(nums, target))"
   ]
  },
  {
   "cell_type": "code",
   "execution_count": 65,
   "id": "2a922d32",
   "metadata": {},
   "outputs": [],
   "source": [
    "# 2. Add Two Numbers\n",
    "# Definition for singly-linked list.\n",
    "# class ListNode(object):\n",
    "#     def __init__(self, val=0, next=None):\n",
    "#         self.val = val\n",
    "#         self.next = next\n",
    "class Solution(object):\n",
    "    def addTwoNumbers(self, l1, l2):\n",
    "        \"\"\"\n",
    "        :type l1: Optional[ListNode]\n",
    "        :type l2: Optional[ListNode]\n",
    "        :rtype: Optional[ListNode]\n",
    "        \"\"\"\n",
    "        l1Number = ''\n",
    "        l2Number = ''\n",
    "        sumNumber = 0\n",
    "\n",
    "        while True:\n",
    "            l1Number = str(l1.val) + l1Number[0:]\n",
    "            if l1.next == None:\n",
    "                break\n",
    "            l1=l1.next\n",
    "\n",
    "        while True:\n",
    "            l2Number = str(l2.val) + l2Number[0:]\n",
    "            if l2.next == None:\n",
    "                break\n",
    "            l2=l2.next\n",
    "\n",
    "        sumNumber = int(l1Number) + int(l2Number)\n",
    "        responseNode = ListNode()\n",
    "        firstRun = 0\n",
    "\n",
    "        while sumNumber > 0:\n",
    "            digit = sumNumber % 10\n",
    "            sumNumber //= 10\n",
    "\n",
    "            if firstRun == 0:\n",
    "                print(digit)\n",
    "                responseNode.val = digit\n",
    "                current = responseNode\n",
    "                firstRun += 1\n",
    "            else:\n",
    "                current.next = ListNode(val = digit, next = None)\n",
    "                current = current.next\n",
    "\n",
    "        return(responseNode)"
   ]
  },
  {
   "cell_type": "code",
   "execution_count": null,
   "id": "67033c0d",
   "metadata": {},
   "outputs": [
    {
     "data": {
      "text/plain": [
       "'789195'"
      ]
     },
     "execution_count": 79,
     "metadata": {},
     "output_type": "execute_result"
    }
   ],
   "source": [
    "# 43. Multiply Strings\n",
    "class Solution(object):\n",
    "    def multiply(self, num1, num2):\n",
    "        \"\"\"\n",
    "        :type num1: str\n",
    "        :type num2: str\n",
    "        :rtype: str\n",
    "        \"\"\"\n",
    "        return str(self.atoi(num1) * self.atoi(num2))\n",
    "    \n",
    "    def atoi(self, stringNumber):\n",
    "        # ASCII values for 0-9: 48-57\n",
    "        number = 0\n",
    "\n",
    "        for digit in stringNumber:\n",
    "            number = number * 10 + ord(digit) - ord('0')\n",
    "\n",
    "        return number\n",
    "    \n",
    "solution = Solution()\n",
    "solution.multiply('4783','165')"
   ]
  },
  {
   "cell_type": "code",
   "execution_count": null,
   "id": "98fb3830",
   "metadata": {},
   "outputs": [
    {
     "data": {
      "text/plain": [
       "True"
      ]
     },
     "execution_count": 148,
     "metadata": {},
     "output_type": "execute_result"
    }
   ],
   "source": [
    "# 9. Palindrome Number\n",
    "class Solution(object):\n",
    "    def isPalindrome(self, x):\n",
    "        \"\"\"\n",
    "        :type x: int\n",
    "        :rtype: bool\n",
    "        \"\"\"\n",
    "        x = str(x)\n",
    "\n",
    "        for i in range(0, len(x)//2):\n",
    "            if (x[i] != x[-(i+1)]):\n",
    "                return False\n",
    "\n",
    "        return True\n",
    "    \n",
    "solution = Solution()\n",
    "solution.isPalindrome(185581)"
   ]
  },
  {
   "cell_type": "code",
   "execution_count": null,
   "id": "1ffc7399",
   "metadata": {},
   "outputs": [
    {
     "name": "stdout",
     "output_type": "stream",
     "text": [
      "1\n",
      "158\n",
      "1\n",
      "621\n",
      "5\n",
      "1994\n"
     ]
    }
   ],
   "source": [
    "# 13. Roman to Integer\n",
    "class Solution(object):\n",
    "    def romanToInt(self, s):\n",
    "        \"\"\"\n",
    "        :type s: str\n",
    "        :rtype: int\n",
    "        \"\"\"\n",
    "        romanNumbers = {\n",
    "            'I': 1,\n",
    "            'V': 5,\n",
    "            'X': 10,\n",
    "            'L': 50,\n",
    "            'C': 100,\n",
    "            'D': 500,\n",
    "            'M': 1000\n",
    "        }\n",
    "\n",
    "        i = len(s) - 1\n",
    "        finalNumber = romanNumbers[s[i]]\n",
    "        i -= 1\n",
    "\n",
    "        while i >= 0:\n",
    "            if (s[i] in 'I' and s[i+1] in ('V', 'X')) or(s[i] in 'X' and s[i+1] in ('L', 'C')) or (s[i] in 'C' and s[i+1] in ('D', 'M')):\n",
    "                finalNumber -= romanNumbers[s[i]]\n",
    "            else:\n",
    "                finalNumber += romanNumbers[s[i]]\n",
    "            \n",
    "            i -= 1\n",
    "\n",
    "        return finalNumber\n",
    "\n",
    "solution = Solution()\n",
    "print(solution.romanToInt('CLVIII'))\n",
    "print(solution.romanToInt('DCXXI'))\n",
    "print(solution.romanToInt('MCMXCIV'))"
   ]
  },
  {
   "cell_type": "code",
   "execution_count": 48,
   "id": "25139ae3",
   "metadata": {},
   "outputs": [
    {
     "name": "stdout",
     "output_type": "stream",
     "text": [
      "video\n"
     ]
    }
   ],
   "source": [
    "# 14. Longest Common Prefix\n",
    "class Solution(object):\n",
    "    def longestCommonPrefix(self, strs):\n",
    "        \"\"\"\n",
    "        :type strs: List[str]\n",
    "        :rtype: str\n",
    "        \"\"\"\n",
    "\n",
    "        firstWord = strs[0]\n",
    "        longestCommonPrefix = ''\n",
    "\n",
    "        for i, letter in enumerate(firstWord, start=1):\n",
    "            longestCommonPrefix += letter\n",
    "\n",
    "            for word in strs:\n",
    "                if longestCommonPrefix not in word[:i]:\n",
    "                    if len(longestCommonPrefix) == 1:\n",
    "                        return ''\n",
    "                    else:\n",
    "                        longestCommonPrefix = longestCommonPrefix[:-1]\n",
    "                        return longestCommonPrefix\n",
    "                \n",
    "        return longestCommonPrefix\n",
    "    \n",
    "\"\"\"\n",
    "class Solution(object):\n",
    "    def longestCommonPrefix(self, strs):\n",
    "        #:type strs: List[str]\n",
    "        #:rtype: str\n",
    "\n",
    "        longestCommonPrefix = strs[0]\n",
    "\n",
    "        for word in strs[1:]:\n",
    "            while not word.startswith(longestCommonPrefix):\n",
    "                longestCommonPrefix = longestCommonPrefix[:-1]\n",
    "\n",
    "                if not longestCommonPrefix:\n",
    "                    return ''\n",
    "                \n",
    "        return longestCommonPrefix\n",
    "\"\"\"\n",
    "    \n",
    "words = [\"videogames\",\"video\",\"videotape\"]\n",
    "\n",
    "solution = Solution()\n",
    "print(solution.longestCommonPrefix(words))"
   ]
  },
  {
   "cell_type": "code",
   "execution_count": 53,
   "id": "05d7e679",
   "metadata": {},
   "outputs": [
    {
     "name": "stdout",
     "output_type": "stream",
     "text": [
      "True\n"
     ]
    }
   ],
   "source": [
    "# 20. Valid Parentheses\n",
    "\n",
    "class Solution(object):\n",
    "    def isValid(self, s):\n",
    "        \"\"\"\n",
    "        :type s: str\n",
    "        :rtype: bool\n",
    "        \"\"\"\n",
    "        \n",
    "        validParentheses = ['()', '[]', '{}']\n",
    "        validString = True\n",
    "\n",
    "        while s and validString:\n",
    "            valid = 0\n",
    "            for parentheses in validParentheses:\n",
    "                if parentheses in s:\n",
    "                    valid += 1\n",
    "                    s = s.replace(parentheses, '')\n",
    "                \n",
    "            if valid == 0:\n",
    "                validString = False\n",
    "\n",
    "        if len(s) == 0:\n",
    "            return True\n",
    "        else:\n",
    "            return False\n",
    "        \n",
    "\"\"\"\n",
    "class Solution(object):\n",
    "    def isValid(self, s):\n",
    "        parenthesisTypes = {\n",
    "            '(': ')',\n",
    "            '[': ']',\n",
    "            '{': '}',\n",
    "        }\n",
    "\n",
    "        stack = []\n",
    "\n",
    "        for parenthesis in s:\n",
    "            if parenthesis in parenthesisTypes:\n",
    "                stack.append(parenthesisTypes[parenthesis])\n",
    "            else:\n",
    "                if not stack or parenthesis != stack.pop():\n",
    "                    return False     \n",
    "                \n",
    "        return not stack\n",
    "\"\"\"\n",
    "\n",
    "expression = \"([]){}\"\n",
    "\n",
    "solution = Solution()\n",
    "print(solution.isValid(expression))"
   ]
  },
  {
   "cell_type": "code",
   "execution_count": 52,
   "id": "7ccb9563",
   "metadata": {},
   "outputs": [
    {
     "name": "stdout",
     "output_type": "stream",
     "text": [
      "True\n"
     ]
    }
   ],
   "source": [
    "stack = []\n",
    "\n",
    "print(not stack)"
   ]
  },
  {
   "cell_type": "code",
   "execution_count": null,
   "id": "0785452a",
   "metadata": {},
   "outputs": [
    {
     "name": "stdout",
     "output_type": "stream",
     "text": [
      "<__main__.ListNode object at 0x00000234784B8B50>\n"
     ]
    }
   ],
   "source": [
    "# 21. Merge Two Sorted Lists\n",
    "\n",
    "#  Definition for singly-linked list.\n",
    "# class ListNode(object):\n",
    "#     def __init__(self, val=0, next=None):\n",
    "#         self.val = val\n",
    "#         self.next = next\n",
    "class Solution(object):\n",
    "    def mergeTwoLists(self, list1, list2):\n",
    "        \"\"\"\n",
    "        :type list1: Optional[ListNode]\n",
    "        :type list2: Optional[ListNode]\n",
    "        :rtype: Optional[ListNode]\n",
    "        \"\"\"\n",
    "\n",
    "        match (list1, list2):\n",
    "            case (obj, None):\n",
    "                return list1\n",
    "            case (None, obj):\n",
    "                return list2\n",
    "            case (None, None):\n",
    "                return list1\n",
    "            \n",
    "        mergedNode = ListNode()\n",
    "        numbers = []\n",
    "        actualNode = list1\n",
    "\n",
    "        numbers.append(actualNode.val)\n",
    "\n",
    "        while actualNode.next != None:\n",
    "            actualNode = actualNode.next\n",
    "            numbers.append(actualNode.val)\n",
    "\n",
    "        actualNode = list2\n",
    "        \n",
    "        numbers.append(actualNode.val)\n",
    "\n",
    "        while actualNode.next != None:\n",
    "            actualNode = actualNode.next\n",
    "            numbers.append(actualNode.val)\n",
    "\n",
    "        numbers.sort()\n",
    "\n",
    "        mergedNode.val = numbers[0]\n",
    "        actualNode = mergedNode\n",
    "\n",
    "        for number in numbers[1:]:\n",
    "            nextNode = ListNode(val=number)\n",
    "            actualNode.next = nextNode\n",
    "            actualNode = actualNode.next\n",
    "\n",
    "        return mergedNode\n",
    "\n",
    "\"\"\"\n",
    "        dummy = ListNode()\n",
    "        current = dummy\n",
    "\n",
    "        while list1 and list2:\n",
    "            if list1.val < list2.val:\n",
    "                current.next = list1\n",
    "                list1 = list1.next\n",
    "            else:\n",
    "                current.next = list2\n",
    "                list2 = list2.next\n",
    "            current = current.next\n",
    "\n",
    "        current.next = list1 if list1 else list2\n",
    "\n",
    "        return dummy.next\n",
    "\"\"\"\n",
    "\n",
    "class ListNode(object):\n",
    "    def __init__(self, val=0, next=None):\n",
    "        self.val = val\n",
    "        self.next = next\n",
    "\n",
    "\n",
    "def fillLinkedList(numbersArray):\n",
    "    \n",
    "    if len(numbersArray) == 0:\n",
    "        return ListNode(val='')\n",
    "\n",
    "    headNode = ListNode(val=numbersArray[0])\n",
    "\n",
    "    actualNode = headNode\n",
    "\n",
    "    for number in numbersArray[1:]:\n",
    "        nextNode = ListNode(val=number)\n",
    "        actualNode.next = nextNode\n",
    "        actualNode = actualNode.next\n",
    "\n",
    "    return headNode\n",
    "\n",
    "def printNodeValues(node):\n",
    "    print(node.val)\n",
    "\n",
    "    actualNode = node\n",
    "\n",
    "    while actualNode.next != None:\n",
    "        actualNode = actualNode.next\n",
    "        print(actualNode.val)\n",
    "\n",
    "headNode1 = fillLinkedList([2,3,6,8,4])\n",
    "headNode2 = fillLinkedList([1,3,4,9])\n",
    "\n",
    "#printNodeValues(headNode1)\n",
    "#rintNodeValues(headNode2)\n",
    "\n",
    "solution = Solution()\n",
    "outputNode = solution.mergeTwoLists(headNode1, headNode2)\n",
    "print(outputNode)"
   ]
  },
  {
   "cell_type": "code",
   "execution_count": 99,
   "id": "181bc351",
   "metadata": {},
   "outputs": [
    {
     "name": "stdout",
     "output_type": "stream",
     "text": [
      "Tiempo de ejecución: 0.135 ms\n"
     ]
    }
   ],
   "source": [
    "# 26. Remove Duplicates from Sorted Array\n",
    "class Solution(object):\n",
    "    def removeDuplicates(self, nums):\n",
    "        \"\"\"\n",
    "        :type nums: List[int]\n",
    "        :rtype: int\n",
    "        \"\"\"\n",
    "        if not nums:\n",
    "            return 0\n",
    "        \n",
    "        currentNumber = nums[0]\n",
    "        offset = 0\n",
    "\n",
    "        for i, number in enumerate(nums[1:]):\n",
    "            if currentNumber == number:\n",
    "                nums.pop(i-offset)\n",
    "                offset += 1\n",
    "            elif currentNumber != number:\n",
    "                currentNumber = number\n",
    "\n",
    "        return len(nums)\n",
    "\n",
    "nums = [0,0,1,1,1,2,2,3,3,4,4]\n",
    "\n",
    "import time\n",
    "\n",
    "start = time.time()\n",
    "\n",
    "solution = Solution()\n",
    "solution.removeDuplicates(nums)\n",
    "\n",
    "end = time.time()\n",
    "elapsed_ms = (end - start) * 1000\n",
    "\n",
    "print(f\"Tiempo de ejecución: {elapsed_ms:.3f} ms\")"
   ]
  },
  {
   "cell_type": "code",
   "execution_count": 119,
   "id": "dc019835",
   "metadata": {},
   "outputs": [
    {
     "data": {
      "text/plain": [
       "7"
      ]
     },
     "execution_count": 119,
     "metadata": {},
     "output_type": "execute_result"
    }
   ],
   "source": [
    "# 27. Remove Element\n",
    "class Solution(object):\n",
    "    def removeElement(self, nums, val):\n",
    "        \"\"\"\n",
    "        :type nums: List[int]\n",
    "        :type val: int\n",
    "        :rtype: int\n",
    "        \"\"\"\n",
    "        offset = 0\n",
    "\n",
    "        for i in range(0, len(nums)):\n",
    "            if nums[i-offset] == val:\n",
    "                nums.pop(i-offset)\n",
    "                offset += 1\n",
    "\n",
    "        return len(nums)\n",
    "        \n",
    "nums = [4,6,8,4,9,0,6,1,3]\n",
    "\n",
    "solution = Solution()\n",
    "solution.removeElement(nums, 6)"
   ]
  },
  {
   "cell_type": "code",
   "execution_count": null,
   "id": "da9c6c6b",
   "metadata": {},
   "outputs": [
    {
     "data": {
      "text/plain": [
       "7"
      ]
     },
     "execution_count": 127,
     "metadata": {},
     "output_type": "execute_result"
    }
   ],
   "source": [
    "# 28. Find the Index of the First Occurrence in a String\n",
    "class Solution(object):\n",
    "    def strStr(self, haystack, needle):\n",
    "        \"\"\"\n",
    "        :type haystack: str\n",
    "        :type needle: str\n",
    "        :rtype: int\n",
    "        \"\"\"\n",
    "\n",
    "        return haystack.find(needle)\n",
    "        \n",
    "solution = Solution()\n",
    "solution.strStr(\"I like corgi dogs.\", \"corgi\")"
   ]
  },
  {
   "cell_type": "code",
   "execution_count": 44,
   "id": "90905218",
   "metadata": {},
   "outputs": [
    {
     "name": "stdout",
     "output_type": "stream",
     "text": [
      "['p', 'w', 'e', 'k']\n",
      "['w', 'e', 'k']\n",
      "['e', 'k', 'w']\n",
      "['k', 'w']\n",
      "['w', 'k', 'a']\n",
      "['k', 'a']\n",
      "['a', 'k', 'e', 'w']\n",
      "['k', 'e', 'w', 'a', 'b', 'c']\n",
      "['e', 'w', 'a', 'b', 'c']\n",
      "['w', 'a', 'b', 'c']\n",
      "['a', 'b', 'c']\n",
      "['b', 'c', 'a']\n",
      "['c', 'a', 'b', 'd']\n",
      "['a', 'b', 'd', 'c']\n",
      "['b', 'd', 'c', 'a']\n",
      "['d', 'c', 'a']\n",
      "['c', 'a', 'd']\n",
      "['a', 'd', 'c', 'b']\n",
      "['d', 'c', 'b']\n",
      "['c', 'b']\n",
      "['b']\n"
     ]
    },
    {
     "data": {
      "text/plain": [
       "6"
      ]
     },
     "execution_count": 44,
     "metadata": {},
     "output_type": "execute_result"
    }
   ],
   "source": [
    "# 3. Longest Substring Without Repeating Characters\n",
    "\n",
    "class Solution(object):\n",
    "    def lengthOfLongestSubstring(self, s):\n",
    "        \"\"\"\n",
    "        :type s: str\n",
    "        :rtype: int\n",
    "        \"\"\"\n",
    "\n",
    "        if not s:\n",
    "            return 0\n",
    "        \n",
    "        longestSubString = []\n",
    "        longestSubStringlength = 1\n",
    "        currentIndex = 0\n",
    "        indexStart = 0\n",
    "\n",
    "        while indexStart < len(s):\n",
    "            while currentIndex < len(s) and s[currentIndex] not in longestSubString:\n",
    "                longestSubString.append(s[currentIndex])\n",
    "                currentIndex += 1\n",
    "\n",
    "            print(longestSubString)\n",
    "            if len(longestSubString) > longestSubStringlength:\n",
    "                longestSubStringlength = len(longestSubString)\n",
    "\n",
    "            longestSubString = []\n",
    "\n",
    "            indexStart += 1\n",
    "            currentIndex = indexStart            \n",
    "\n",
    "        return longestSubStringlength\n",
    "            \n",
    "# pwekwkakewabcabdcadcb\n",
    "\n",
    "solution = Solution()\n",
    "solution.lengthOfLongestSubstring(\"pwekwkakewabcabdcadcb\")"
   ]
  },
  {
   "cell_type": "code",
   "execution_count": 103,
   "id": "d02788a4",
   "metadata": {},
   "outputs": [
    {
     "data": {
      "text/plain": [
       "-31459486"
      ]
     },
     "execution_count": 103,
     "metadata": {},
     "output_type": "execute_result"
    }
   ],
   "source": [
    "# 7. Reverse Integer\n",
    "\n",
    "class Solution(object):\n",
    "    def reverse(self, x):\n",
    "        \"\"\"\n",
    "        :type x: int\n",
    "        :rtype: int\n",
    "        \"\"\"\n",
    "        sign = 1\n",
    "        reversedNumber = 0\n",
    "        lastDigit = 0\n",
    "        \n",
    "        sign = -1 if x < 0 else 1\n",
    "        x = abs(x)\n",
    "\n",
    "        while x != 0:\n",
    "            lastDigit = x%10\n",
    "            reversedNumber = reversedNumber * 10 + lastDigit\n",
    "            x = (x - lastDigit) // 10\n",
    "\n",
    "        reversedNumber = reversedNumber*sign\n",
    "\n",
    "        if(-2**31 <= reversedNumber <= 2**31 - 1):\n",
    "            return reversedNumber\n",
    "        else:\n",
    "            return 0\n",
    "        \n",
    "solution = Solution()\n",
    "solution.reverse(-68495413)"
   ]
  },
  {
   "cell_type": "code",
   "execution_count": 13,
   "id": "13a68c57",
   "metadata": {},
   "outputs": [
    {
     "data": {
      "text/plain": [
       "True"
      ]
     },
     "execution_count": 13,
     "metadata": {},
     "output_type": "execute_result"
    }
   ],
   "source": [
    "# 217. Contains Duplicate\n",
    "class Solution(object):\n",
    "    def containsDuplicate(self, nums):\n",
    "        \"\"\"\n",
    "        :type nums: List[int]\n",
    "        :rtype: bool\n",
    "        \"\"\"\n",
    "\n",
    "        uniqueNums = set()\n",
    "\n",
    "        for number in nums:\n",
    "            if number in uniqueNums:\n",
    "                return True\n",
    "            uniqueNums.add(number)\n",
    "\n",
    "        return False\n",
    "\n",
    "numsList = [1,2,3,4,5,6,1,7,8,9]\n",
    "\n",
    "solution = Solution()\n",
    "solution.containsDuplicate(numsList)"
   ]
  },
  {
   "cell_type": "code",
   "execution_count": null,
   "id": "9aa973be",
   "metadata": {},
   "outputs": [
    {
     "data": {
      "text/plain": [
       "['1',\n",
       " '2',\n",
       " 'Fizz',\n",
       " '4',\n",
       " 'Buzz',\n",
       " 'Fizz',\n",
       " '7',\n",
       " '8',\n",
       " 'Fizz',\n",
       " 'Buzz',\n",
       " '11',\n",
       " 'Fizz',\n",
       " '13',\n",
       " '14',\n",
       " 'FizzBuzz']"
      ]
     },
     "execution_count": 7,
     "metadata": {},
     "output_type": "execute_result"
    }
   ],
   "source": [
    "# 412. Fizz Buzz\n",
    "class Solution(object):\n",
    "    def fizzBuzz(self, n):\n",
    "        \"\"\"\n",
    "        :type n: int\n",
    "        :rtype: List[str]\n",
    "        \"\"\"\n",
    "        answer = []\n",
    "\n",
    "        for number in range(1, n+1):\n",
    "            if number % 3 == 0 and number % 5 == 0:\n",
    "                answer.append(\"FizzBuzz\")\n",
    "            elif number % 3 == 0:\n",
    "                answer.append(\"Fizz\")\n",
    "            elif number % 5 == 0:\n",
    "                answer.append(\"Buzz\")\n",
    "            else:\n",
    "                answer.append(str(number))\n",
    "\n",
    "        return answer\n",
    "\n",
    "number = 15\n",
    "\n",
    "solution = Solution()\n",
    "solution.fizzBuzz(number)"
   ]
  },
  {
   "cell_type": "code",
   "execution_count": 17,
   "id": "6073567f",
   "metadata": {},
   "outputs": [
    {
     "data": {
      "text/plain": [
       "'eprorpe'"
      ]
     },
     "execution_count": 17,
     "metadata": {},
     "output_type": "execute_result"
    }
   ],
   "source": [
    "# 5. Longest Palindromic Substring\n",
    "class Solution(object):\n",
    "    def longestPalindrome(self, s):\n",
    "        \"\"\"\n",
    "        :type s: str\n",
    "        :rtype: str\n",
    "        \"\"\"\n",
    "        longestSubstring = ''\n",
    "\n",
    "        for i in range(len(s)):\n",
    "            # Odd length\n",
    "            leftPointer, rightPointer = i, i\n",
    "\n",
    "            while(leftPointer >= 0 and rightPointer < len(s) and s[leftPointer] == s[rightPointer]):\n",
    "                currentPalindrome = s[leftPointer: rightPointer + 1]\n",
    "                if len(currentPalindrome) > len(longestSubstring):\n",
    "                    longestSubstring = currentPalindrome\n",
    "\n",
    "                leftPointer -= 1\n",
    "                rightPointer += 1\n",
    "\n",
    "            # Even length\n",
    "            leftPointer, rightPointer = i, i + 1\n",
    "\n",
    "            while(leftPointer >= 0 and rightPointer < len(s) and s[leftPointer] == s[rightPointer]):\n",
    "                currentPalindrome = s[leftPointer: rightPointer + 1]\n",
    "                if len(currentPalindrome) > len(longestSubstring):\n",
    "                    longestSubstring = currentPalindrome\n",
    "\n",
    "                leftPointer -= 1\n",
    "                rightPointer += 1\n",
    "\n",
    "        return longestSubstring\n",
    "\n",
    "phrase = \"poeoroepoeorppeoroprpreeoeorppeeeprorpeor\"\n",
    "\n",
    "solution = Solution()\n",
    "solution.longestPalindrome(phrase)"
   ]
  },
  {
   "cell_type": "code",
   "execution_count": null,
   "id": "a3ff8e5a",
   "metadata": {},
   "outputs": [
    {
     "data": {
      "text/plain": [
       "'HPEPYLADLHOOG'"
      ]
     },
     "execution_count": 156,
     "metadata": {},
     "output_type": "execute_result"
    }
   ],
   "source": [
    "# 6. Zigzag Conversion\n",
    "class Solution(object):\n",
    "    def convert(self, s, numRows):\n",
    "        \"\"\"\n",
    "        :type s: str\n",
    "        :type numRows: int\n",
    "        :rtype: str\n",
    "        \"\"\"\n",
    "        if numRows == 1 or numRows >= len(s):\n",
    "            return s\n",
    "        \n",
    "        rows = [''] * numRows\n",
    "        currentRow = 0\n",
    "        direction = True\n",
    "\n",
    "        for letter in s:\n",
    "            rows[currentRow] += letter\n",
    "\n",
    "            if direction:\n",
    "                currentRow += 1\n",
    "            else:\n",
    "                currentRow -= 1\n",
    "\n",
    "            if currentRow == 0 or currentRow == numRows - 1:\n",
    "                direction = not direction\n",
    "\n",
    "        return ''.join(rows)\n",
    "    \"\"\"\n",
    "    def convert(self, s, numRows):\n",
    "        \n",
    "        :type s: str\n",
    "        :type numRows: int\n",
    "        :rtype: str\n",
    "        \n",
    "\n",
    "        if numRows == 1 or numRows >= len(s):\n",
    "            return s\n",
    "        \n",
    "        result = ''\n",
    "        currentIndex = 0\n",
    "        movingIndex = 0\n",
    "        firstOffSet = numRows * 2 - 2\n",
    "        secondOffSet = 0\n",
    "\n",
    "        while len(result) < len(s):\n",
    "            if movingIndex > len(s) - 1:\n",
    "                currentIndex += 1\n",
    "                movingIndex = currentIndex\n",
    "\n",
    "                firstOffSet -= 2\n",
    "                secondOffSet += 2\n",
    "            else:\n",
    "                if firstOffSet != 0:\n",
    "                    result += s[movingIndex]\n",
    "                    movingIndex += firstOffSet\n",
    "                \n",
    "                if secondOffSet != 0 and movingIndex <= len(s) - 1:\n",
    "                    result += s[movingIndex]\n",
    "                    movingIndex += secondOffSet\n",
    "            \n",
    "        return result\n",
    "        \"\"\"\n",
    "\n",
    "phrase = \"HELLOHAPPYDOG\"\n",
    "\n",
    "solution = Solution()\n",
    "solution.convert(phrase, 5)"
   ]
  },
  {
   "cell_type": "code",
   "execution_count": null,
   "id": "af2fc664",
   "metadata": {},
   "outputs": [
    {
     "data": {
      "text/plain": [
       "True"
      ]
     },
     "execution_count": 40,
     "metadata": {},
     "output_type": "execute_result"
    }
   ],
   "source": [
    "# 125. Valid Palindrome\n",
    "class Solution(object):\n",
    "    def isPalindrome(self, s):\n",
    "        \"\"\"\n",
    "        :type s: str\n",
    "        :rtype: bool\n",
    "        \"\"\"\n",
    "        transformedString = ''\n",
    "\n",
    "        s = s.lower()\n",
    "\n",
    "        for letter in s:\n",
    "            if letter.isalnum():\n",
    "                transformedString += letter.lower()\n",
    "\n",
    "        if not transformedString:\n",
    "            return True\n",
    "        \n",
    "        return transformedString == transformedString[::-1]\n",
    "\n",
    "        \"\"\"leftPointer = 0\n",
    "        rightPointer = len(transformedString) - 1\n",
    "\n",
    "        while leftPointer != rightPointer and leftPointer < rightPointer:\n",
    "            if transformedString[leftPointer] != transformedString[rightPointer]:\n",
    "                return False\n",
    "            \n",
    "            leftPointer += 1\n",
    "            rightPointer -= 1\n",
    "            \n",
    "        return True\n",
    "        \"\"\"\n",
    "\n",
    "phrase = \"A man, a plan, a canal: Panama\"\n",
    "\n",
    "solution = Solution()\n",
    "solution.isPalindrome(phrase)"
   ]
  },
  {
   "cell_type": "code",
   "execution_count": null,
   "id": "4647984a",
   "metadata": {},
   "outputs": [
    {
     "name": "stdout",
     "output_type": "stream",
     "text": [
      "0\n",
      "1\n",
      "1\n"
     ]
    },
    {
     "data": {
      "text/plain": [
       "1"
      ]
     },
     "execution_count": 202,
     "metadata": {},
     "output_type": "execute_result"
    }
   ],
   "source": [
    "# 11 problem\n",
    "import time\n",
    "class Solution(object):\n",
    "    def maxArea(self, height):\n",
    "        \"\"\"\n",
    "        :type height: List[int]\n",
    "        :rtype: int\n",
    "        \"\"\"\n",
    "        \n",
    "            \n",
    "height = [1,8,6,2,5,4,8,3,7]\n",
    "\n",
    "solution = Solution()\n",
    "solution.maxArea(height)"
   ]
  }
 ],
 "metadata": {
  "kernelspec": {
   "display_name": "Python 3",
   "language": "python",
   "name": "python3"
  },
  "language_info": {
   "codemirror_mode": {
    "name": "ipython",
    "version": 3
   },
   "file_extension": ".py",
   "mimetype": "text/x-python",
   "name": "python",
   "nbconvert_exporter": "python",
   "pygments_lexer": "ipython3",
   "version": "3.13.3"
  }
 },
 "nbformat": 4,
 "nbformat_minor": 5
}

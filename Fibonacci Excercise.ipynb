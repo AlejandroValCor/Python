{
 "cells": [
  {
   "cell_type": "code",
   "execution_count": 41,
   "metadata": {},
   "outputs": [
    {
     "name": "stdout",
     "output_type": "stream",
     "text": [
      "[0, 1, 1, 2, 3, 5, 8, 13, 21, 34, 55, 89, 144, 233, 377, 610, 987, 1597]\n"
     ]
    }
   ],
   "source": [
    "def fibonacci(numbers):\n",
    "    fibonacciArray = [0, 1]\n",
    "\n",
    "    while len(fibonacciArray) < numbers:\n",
    "        fibonacciArray.append(fibonacciArray[-1] + fibonacciArray[-2])\n",
    "        \n",
    "    return fibonacciArray\n",
    "    \n",
    "print(fibonacci(18))\n"
   ]
  },
  {
   "cell_type": "code",
   "execution_count": 35,
   "metadata": {},
   "outputs": [
    {
     "data": {
      "text/plain": [
       "[0, 1, 1, 2, 3, 5, 8, 13, 21, 34, 55, 89, 144, 233, 377, 610, 987, 1597]"
      ]
     },
     "execution_count": 35,
     "metadata": {},
     "output_type": "execute_result"
    }
   ],
   "source": [
    "def fibonacci(inputArray):\n",
    "    inputArray.append(inputArray[-1] + inputArray[-2])\n",
    "\n",
    "    if len(inputArray) < 18:\n",
    "        return fibonacci(inputArray)\n",
    "    else:\n",
    "        return inputArray\n",
    "\n",
    "fibonacci([0, 1])"
   ]
  },
  {
   "cell_type": "code",
   "execution_count": 31,
   "metadata": {},
   "outputs": [
    {
     "name": "stdout",
     "output_type": "stream",
     "text": [
      "[0, 1, 1, 2, 3, 5, 8, 13, 21, 34, 55]\n"
     ]
    }
   ],
   "source": [
    "def fibonacci(numbers):\n",
    "    if numbers == 0:\n",
    "        return 0\n",
    "    elif numbers == 1:\n",
    "        return 1\n",
    "    else:\n",
    "        return fibonacci(numbers-1) + fibonacci(numbers-2)\n",
    "    \n",
    "fib10 = [\n",
    "    fibonacci(0),\n",
    "    fibonacci(1),\n",
    "    fibonacci(2),\n",
    "    fibonacci(3),\n",
    "    fibonacci(4),\n",
    "    fibonacci(5),\n",
    "    fibonacci(6),\n",
    "    fibonacci(7),\n",
    "    fibonacci(8),\n",
    "    fibonacci(9),\n",
    "    fibonacci(10)\n",
    "]\n",
    "print(fib10)"
   ]
  }
 ],
 "metadata": {
  "kernelspec": {
   "display_name": "Python 3",
   "language": "python",
   "name": "python3"
  },
  "language_info": {
   "codemirror_mode": {
    "name": "ipython",
    "version": 3
   },
   "file_extension": ".py",
   "mimetype": "text/x-python",
   "name": "python",
   "nbconvert_exporter": "python",
   "pygments_lexer": "ipython3",
   "version": "3.8.5"
  }
 },
 "nbformat": 4,
 "nbformat_minor": 2
}

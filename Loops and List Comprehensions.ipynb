{
 "cells": [
  {
   "cell_type": "code",
   "execution_count": 3,
   "id": "c7618feb",
   "metadata": {},
   "outputs": [
    {
     "data": {
      "text/plain": [
       "True"
      ]
     },
     "execution_count": 3,
     "metadata": {},
     "output_type": "execute_result"
    }
   ],
   "source": [
    "def has_lucky_number(nums):\n",
    "    \"\"\"Return whether the given list of numbers is lucky. A lucky list contains\n",
    "    at least one number divisible by 7.\n",
    "    \"\"\"\n",
    "    for num in nums:\n",
    "        if num % 7 == 0:\n",
    "            return True\n",
    "            \n",
    "    return False\n",
    "\n",
    "has_lucky_number([1, 15, 45, 49, 71, 89])"
   ]
  },
  {
   "cell_type": "code",
   "execution_count": 8,
   "id": "4996a618",
   "metadata": {},
   "outputs": [
    {
     "name": "stdout",
     "output_type": "stream",
     "text": [
      "False\n",
      "True\n"
     ]
    }
   ],
   "source": [
    "# Solution using list comprehension\n",
    "\n",
    "def has_lucky_number_LC(nums):\n",
    "    return any([num % 7 == 0 for num in nums])\n",
    "\n",
    "print(has_lucky_number_LC([1, 15, 45, 62, 71, 89]))\n",
    "print(has_lucky_number_LC([1, 15, 45, 49, 71, 89]))"
   ]
  },
  {
   "cell_type": "code",
   "execution_count": 9,
   "id": "27309be0",
   "metadata": {},
   "outputs": [
    {
     "data": {
      "text/plain": [
       "[False, False, True, False, False, True]"
      ]
     },
     "execution_count": 9,
     "metadata": {},
     "output_type": "execute_result"
    }
   ],
   "source": [
    "def elementwise_greater_than(L, thresh):\n",
    "    \"\"\"Return a list with the same length as L, where the value at index i is \n",
    "    True if L[i] is greater than thresh, and False otherwise.\n",
    "    \n",
    "    >>> elementwise_greater_than([1, 2, 3, 4], 2)\n",
    "    [False, False, True, True]\n",
    "    \"\"\"\n",
    "    booleanList = [i > thresh for i in L]\n",
    "\n",
    "    return booleanList\n",
    "\n",
    "elementwise_greater_than([1,24,65,12,48,100], 55)"
   ]
  },
  {
   "cell_type": "code",
   "execution_count": 22,
   "id": "f2e268eb",
   "metadata": {},
   "outputs": [
    {
     "data": {
      "text/plain": [
       "True"
      ]
     },
     "execution_count": 22,
     "metadata": {},
     "output_type": "execute_result"
    }
   ],
   "source": [
    "def menu_is_boring(meals):\n",
    "    \"\"\"Given a list of meals served over some period of time, return True if the\n",
    "    same meal has ever been served two days in a row, and False otherwise.\n",
    "    \"\"\"\n",
    "    for i in range(0, len(meals)):\n",
    "        if i == 0:\n",
    "            continue\n",
    "        else:\n",
    "            if meals[i-1] == meals[i]:\n",
    "                return True\n",
    "            \n",
    "    return False\n",
    "\n",
    "\"\"\"\n",
    "Alternate solution\n",
    "\n",
    "def menu_is_boring(meals):\n",
    "    # Iterate over all indices of the list, except the last one\n",
    "    for i in range(len(meals)-1):\n",
    "        if meals[i] == meals[i+1]:\n",
    "            return True\n",
    "    return False\n",
    "\"\"\"\n",
    "\n",
    "menu_is_boring(['Spam', 'Eggs', 'Spam', 'Spam', 'Bacon', 'Spam'])"
   ]
  },
  {
   "cell_type": "code",
   "execution_count": null,
   "id": "774353e3",
   "metadata": {},
   "outputs": [],
   "source": [
    "def estimate_average_slot_payout(n_runs):\n",
    "    \"\"\"Run the slot machine n_runs times and return the average net profit per run.\n",
    "    Example calls (note that return value is nondeterministic!):\n",
    "    >>> estimate_average_slot_payout(1)\n",
    "    -1\n",
    "    >>> estimate_average_slot_payout(1)\n",
    "    0.5\n",
    "    \"\"\"\n",
    "    totalRunsEarnings = 0\n",
    "    \n",
    "    for i in range(0, n_runs):\n",
    "        totalRunsEarnings += play_slot_machine() - 1\n",
    "\n",
    "    averageEarnings = totalRunsEarnings/n_runs\n",
    "\n",
    "    return averageEarnings\n",
    "\n",
    "print(estimate_average_slot_payout(10000000))"
   ]
  }
 ],
 "metadata": {
  "kernelspec": {
   "display_name": "Python 3",
   "language": "python",
   "name": "python3"
  },
  "language_info": {
   "codemirror_mode": {
    "name": "ipython",
    "version": 3
   },
   "file_extension": ".py",
   "mimetype": "text/x-python",
   "name": "python",
   "nbconvert_exporter": "python",
   "pygments_lexer": "ipython3",
   "version": "3.8.5"
  }
 },
 "nbformat": 4,
 "nbformat_minor": 5
}
